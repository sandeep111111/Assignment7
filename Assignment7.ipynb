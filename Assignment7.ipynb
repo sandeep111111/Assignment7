{
 "cells": [
  {
   "cell_type": "code",
   "execution_count": 4,
   "id": "a64a707d-0185-4ca5-a1fe-cc925d15515c",
   "metadata": {},
   "outputs": [],
   "source": [
    "def product(l):\n",
    "    p=1\n",
    "    for i in l:\n",
    "        if type(i)==list or type(i)==tuple or type(i)==dict:\n",
    "            for j in i:\n",
    "                if(type(j)==int):\n",
    "                    p=p*j\n",
    "    return p\n",
    "l=[1,2,3,4, [44,55,66, True], False, (34,56,78,89,34), {1,2,3,3,2,1}, {1:34, \"key2\": [55, 67, 78, 89], 4: (45,\n",
    "22, 61, 34)}, [56, 'data science'], 'Machine Learning']\n",
    "a=product(l)"
   ]
  },
  {
   "cell_type": "code",
   "execution_count": 5,
   "id": "ae51592a-fe41-43fc-9802-de343c024e35",
   "metadata": {},
   "outputs": [
    {
     "data": {
      "text/plain": [
       "16078213462671360"
      ]
     },
     "execution_count": 5,
     "metadata": {},
     "output_type": "execute_result"
    }
   ],
   "source": [
    "a"
   ]
  },
  {
   "cell_type": "code",
   "execution_count": 2,
   "id": "745c51b7-2102-46b7-b5a0-fc10b2ffd789",
   "metadata": {},
   "outputs": [
    {
     "name": "stdin",
     "output_type": "stream",
     "text": [
      "enter the massage I want to eat good\n"
     ]
    },
    {
     "name": "stdout",
     "output_type": "stream",
     "text": [
      "r${dzmg${gl${vzg${tllw\n"
     ]
    }
   ],
   "source": [
    "s=input('enter the massage')\n",
    "s=s.upper()\n",
    "s1=''\n",
    "p=90\n",
    "t=65\n",
    "for i in s:\n",
    "    if(i==\" \"):\n",
    "        s1=s1+'$'\n",
    "        continue\n",
    "    t1=ord(i)\n",
    "    t=t1-t\n",
    "    p=p-t\n",
    "    p=chr(p)\n",
    "    s1=s1+p\n",
    "    p=90\n",
    "    t=65\n",
    "print(s1.lower())\n"
   ]
  },
  {
   "cell_type": "code",
   "execution_count": null,
   "id": "c4f9b471-18dc-44d3-9c3b-fa04adfd2cca",
   "metadata": {},
   "outputs": [],
   "source": []
  }
 ],
 "metadata": {
  "kernelspec": {
   "display_name": "Python 3 (ipykernel)",
   "language": "python",
   "name": "python3"
  },
  "language_info": {
   "codemirror_mode": {
    "name": "ipython",
    "version": 3
   },
   "file_extension": ".py",
   "mimetype": "text/x-python",
   "name": "python",
   "nbconvert_exporter": "python",
   "pygments_lexer": "ipython3",
   "version": "3.10.8"
  }
 },
 "nbformat": 4,
 "nbformat_minor": 5
}
